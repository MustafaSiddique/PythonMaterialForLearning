{
  "nbformat": 4,
  "nbformat_minor": 0,
  "metadata": {
    "colab": {
      "name": "Untitled0.ipynb",
      "provenance": [],
      "collapsed_sections": [],
      "authorship_tag": "ABX9TyMPDaDXj3gZqtgtBrxA8fkw",
      "include_colab_link": true
    },
    "kernelspec": {
      "name": "python3",
      "display_name": "Python 3"
    }
  },
  "cells": [
    {
      "cell_type": "markdown",
      "metadata": {
        "id": "view-in-github",
        "colab_type": "text"
      },
      "source": [
        "<a href=\"https://colab.research.google.com/github/MustafaSiddique/PythonMaterialForLearning/blob/main/Untitled0.ipynb\" target=\"_parent\"><img src=\"https://colab.research.google.com/assets/colab-badge.svg\" alt=\"Open In Colab\"/></a>"
      ]
    },
    {
      "cell_type": "markdown",
      "metadata": {
        "id": "2zPXhunpE26I"
      },
      "source": [
        "### BUILT IN FUNCTIONS : **list** **bold text**"
      ]
    },
    {
      "cell_type": "code",
      "metadata": {
        "colab": {
          "base_uri": "https://localhost:8080/",
          "height": 0
        },
        "id": "zrHQf9gdCNKQ",
        "outputId": "2fead41a-9741-48af-9005-a5efa8826f47"
      },
      "source": [
        "\n",
        "arr1 = [1,2,3,4,5]\n",
        "arr2 = [3,5,6,1]\n",
        "print(\"Lenght of arr1 : \",len(arr1))\n",
        "\n",
        "print(\"maximum : \", max(arr2))\n",
        "\n",
        "print(\"minimum : \" ,min(arr1))\n",
        "\n",
        "tup = ('a','b','c')\n",
        "print(\"complete list is :\",list(tup))\n",
        "\n",
        "arr1.append('mustafa')\n",
        "print(\"after append list is : \" , arr1)\n",
        "\n",
        "arr1.count('mustafa')\n",
        "\n",
        "print(\"Return index of mustafa : \",arr1.index('mustafa'))\n",
        "\n",
        "arr1.insert(2,'arsalan')\n",
        "print(\"after inserting :\",arr1)\n",
        "\n",
        "print(arr1.pop())\n",
        "print(\"after popping last element : \",arr1)\n",
        "\n",
        "arr1.remove(4)\n",
        "\n",
        "print(\"after removing selected index : \",arr1)\n",
        "\n",
        "\n",
        "arr1.reverse()\n",
        "print(\"after reverse : \",arr1)\n",
        "\n",
        "arr2.reverse()\n",
        "print(arr2)\n",
        "\n",
        "arr2.sort()\n",
        "print(\"after sorting : \",arr2)"
      ],
      "execution_count": 2,
      "outputs": [
        {
          "output_type": "stream",
          "text": [
            "Lenght of arr1 :  5\n",
            "maximum :  6\n",
            "minimum :  1\n",
            "complete list is : ['a', 'b', 'c']\n",
            "after append list is :  [1, 2, 3, 4, 5, 'mustafa']\n",
            "Return index of mustafa :  5\n",
            "after inserting : [1, 2, 'arsalan', 3, 4, 5, 'mustafa']\n",
            "mustafa\n",
            "after popping last element :  [1, 2, 'arsalan', 3, 4, 5]\n",
            "after removing selected index :  [1, 2, 'arsalan', 3, 5]\n",
            "after reverse :  [5, 3, 'arsalan', 2, 1]\n",
            "[1, 6, 5, 3]\n",
            "after sorting :  [1, 3, 5, 6]\n"
          ],
          "name": "stdout"
        }
      ]
    },
    {
      "cell_type": "markdown",
      "metadata": {
        "id": "6sQRk6w3Egf4"
      },
      "source": [
        "# ***TUPLESS***"
      ]
    },
    {
      "cell_type": "code",
      "metadata": {
        "colab": {
          "base_uri": "https://localhost:8080/",
          "height": 0
        },
        "id": "cu6gRvWOCy-n",
        "outputId": "4bdbe511-d576-4b36-cc31-38a613af7c08"
      },
      "source": [
        "\n",
        "tup1 = (1,2,3,4,9)\n",
        "print(\"lenght of tuple : \",len(tup1))\n",
        "print(\"maximum : \", max(tup1))\n",
        "print(\"minimum : \",min(tup1))\n",
        "\n",
        "arr = ['a','b','c']\n",
        "tup = tuple(arr)\n",
        "print(\"after conversion : \",tup)"
      ],
      "execution_count": 3,
      "outputs": [
        {
          "output_type": "stream",
          "text": [
            "lenght of tuple :  5\n",
            "maximum :  9\n",
            "minimum :  1\n",
            "after conversion :  ('a', 'b', 'c')\n"
          ],
          "name": "stdout"
        }
      ]
    },
    {
      "cell_type": "markdown",
      "metadata": {
        "id": "tnZKk35bEGT3"
      },
      "source": [
        "# **DICTIONARY** "
      ]
    },
    {
      "cell_type": "code",
      "metadata": {
        "colab": {
          "base_uri": "https://localhost:8080/",
          "height": 0
        },
        "id": "9vjQMp4CDAis",
        "outputId": "fd02a31a-c322-49ab-db07-440038c51c0a"
      },
      "source": [
        "\n",
        "dicts = {'a':\"apple\",'b':2,'c':2.2,'d':{'unique':28}}\n",
        "print(\"Dictionary elements : \",dicts)\n",
        "dicts2 = {'a':\"apple\",'b':2,'c':2.2,'d':{'unique':28},'u':\"mustafa\"}\n",
        "#print(cmp(dicts,dicts2))\n",
        "print(\"Length of dictionary : \",len(dicts2))\n",
        "print(\"String conversion :\",str(dicts))\n",
        "print(\"Type : \",type(dicts2))\n",
        "print(\"Clear : \",dicts.clear())\n",
        "print(str(dicts))\n",
        "temp = dicts2.copy()\n",
        "print(\"copy of dictionary : \",temp)\n",
        "\n",
        "print(temp.get('a'))\n",
        "\n",
        "print(dicts2.items())\n",
        "\n",
        "print(\"Values are : \",dicts2.values())\n",
        "\n",
        "print(\"Keys are : \",dicts2.keys())\n",
        "\n",
        "dicts.update({'m':'mustafa'})\n",
        "print(\"after update dictionary : \",dicts)"
      ],
      "execution_count": 4,
      "outputs": [
        {
          "output_type": "stream",
          "text": [
            "Dictionary elements :  {'a': 'apple', 'b': 2, 'c': 2.2, 'd': {'unique': 28}}\n",
            "Length of dictionary :  5\n",
            "String conversion : {'a': 'apple', 'b': 2, 'c': 2.2, 'd': {'unique': 28}}\n",
            "Type :  <class 'dict'>\n",
            "Clear :  None\n",
            "{}\n",
            "copy of dictionary :  {'a': 'apple', 'b': 2, 'c': 2.2, 'd': {'unique': 28}, 'u': 'mustafa'}\n",
            "apple\n",
            "dict_items([('a', 'apple'), ('b', 2), ('c', 2.2), ('d', {'unique': 28}), ('u', 'mustafa')])\n",
            "Values are :  dict_values(['apple', 2, 2.2, {'unique': 28}, 'mustafa'])\n",
            "Keys are :  dict_keys(['a', 'b', 'c', 'd', 'u'])\n",
            "after update dictionary :  {'m': 'mustafa'}\n"
          ],
          "name": "stdout"
        }
      ]
    },
    {
      "cell_type": "code",
      "metadata": {
        "colab": {
          "base_uri": "https://localhost:8080/",
          "height": 0
        },
        "id": "wys-huzfDQgK",
        "outputId": "3837b2f6-8dea-4c35-cf8b-43d0f9d145a0"
      },
      "source": [
        "#1. Store the names of a few of your friends in a list called names.\n",
        "#Print each person’s name by accessing each element in the list, one at a time.\n",
        "print(\"\\t\\tAnswer 1 \")\n",
        "name = [\"Abdullah\",\"Mehran\",\"Taha\",\"Arsalan\"]\n",
        "for i in name:\n",
        "  print(i)"
      ],
      "execution_count": 10,
      "outputs": [
        {
          "output_type": "stream",
          "text": [
            "\t\tAnswer 1 \n",
            "Abdullah\n",
            "Mehran\n",
            "Taha\n",
            "Arsalan\n"
          ],
          "name": "stdout"
        }
      ]
    },
    {
      "cell_type": "code",
      "metadata": {
        "colab": {
          "base_uri": "https://localhost:8080/",
          "height": 0
        },
        "id": "pJchMqGdDWHC",
        "outputId": "8bba9424-d36b-4a4f-8e39-09334cbeafd5"
      },
      "source": [
        "#2. If you could invite anyone, living or deceased, to dinner, who would you invi\n",
        "#Make a list that includes at least three people you’d like to invite to dinner.\n",
        "#Then use your list to print a message to each person, inviting them to dinner.\n",
        "print(\"\\t\\tAnswer 2 \")\n",
        "invitedPerson = [\"Abdullah\",\"Mehran\",\"Taha\",\"Arsalan\"]\n",
        "for i in invitedPerson:\n",
        "  print(i,\", you are invited at my home.\" )"
      ],
      "execution_count": 9,
      "outputs": [
        {
          "output_type": "stream",
          "text": [
            "\t\tAnswer 2 \n",
            "Abdullah , you are invited at my home.\n",
            "Mehran , you are invited at my home.\n",
            "Taha , you are invited at my home.\n",
            "Arsalan , you are invited at my home.\n"
          ],
          "name": "stdout"
        }
      ]
    },
    {
      "cell_type": "code",
      "metadata": {
        "colab": {
          "base_uri": "https://localhost:8080/",
          "height": 0
        },
        "id": "TRkksMyXDfJ7",
        "outputId": "cf4ba6c2-aec5-4fd8-a084-b87d22a833ed"
      },
      "source": [
        "#3. Changing Guest List: You just heard that one of your guests can’t make the din\n",
        "# so you need to send out a new set of invitations.\n",
        "# You’ll have to think of someone else to invite.\n",
        "#● Modify your list, replacing the name of the guest who can’t make it with the n\n",
        "#● Print a second set of invitation messages, one for each person who is still in\n",
        "print(\"\\t\\tAnswer 3 \")\n",
        "invitedPerson = [\"Abdullah\",\"Mehran\",\"Taha\",\"Arsalan\"]\n",
        "invitedPerson[invitedPerson.index(\"Arsalan\")] = \"Osama\"\n",
        "for i in invitedPerson:\n",
        "  print(i, \", you are invited at my home\" )"
      ],
      "execution_count": 8,
      "outputs": [
        {
          "output_type": "stream",
          "text": [
            "\t\tAnswer 3 \n",
            "Abdullah , you are invited at my home\n",
            "Mehran , you are invited at my home\n",
            "Taha , you are invited at my home\n",
            "Osama , you are invited at my home\n"
          ],
          "name": "stdout"
        }
      ]
    },
    {
      "cell_type": "code",
      "metadata": {
        "colab": {
          "base_uri": "https://localhost:8080/",
          "height": 0
        },
        "id": "djPm0BpnDhb2",
        "outputId": "fb54a861-d442-4d52-bef6-28811cff5b3e"
      },
      "source": [
        "# Create a Class “Employee”, it’s a common base class for all the employees. Then\n",
        "# initialize employee’s parameters like empName and salary and create functions like\n",
        "# displayCount() containing the total number of employees in your knowledge base and\n",
        "# displayEmployee() containing empName and their salary.\n",
        "print(\"\\t\\tAnswer 4 \")\n",
        "class Employee:\n",
        "    \"t’s a common base class for all the employees\"\n",
        "    totalEmployee = 0\n",
        "    def __init__(myobject,empName,salary ):\n",
        "        myobject.empName = empName\n",
        "        myobject.salary = salary\n",
        "        Employee.totalEmployee += 1\n",
        "    \n",
        "    def displayCount(myobject):\n",
        "        print(\"Total Employees are: \",Employee.totalEmployee)\n",
        "        \n",
        "    def displayEmployee(myobject):\n",
        "        print(myobject.empName,myobject.salary)\n",
        "\n",
        "first = Employee(\"Mustafa\",2000000)\n",
        "second = Employee(\"ali\",30000)\n",
        "third = Employee(\"abdullah\",28759)\n",
        "fourth = Employee(\"mehran\",2925627943)\n",
        "fifth = Employee(\"taha\",22387647238)\n",
        "first.displayCount()\n",
        "first.displayEmployee()\n",
        "second.displayEmployee()\n",
        "third.displayEmployee()   \n",
        "fourth.displayEmployee()\n",
        "fifth.displayEmployee()\n"
      ],
      "execution_count": 7,
      "outputs": [
        {
          "output_type": "stream",
          "text": [
            "\t\tAnswer 4 \n",
            "Total Employees are:  5\n",
            "Mustafa 2000000\n",
            "ali 30000\n",
            "abdullah 28759\n",
            "mehran 2925627943\n",
            "taha 22387647238\n"
          ],
          "name": "stdout"
        }
      ]
    }
  ]
}